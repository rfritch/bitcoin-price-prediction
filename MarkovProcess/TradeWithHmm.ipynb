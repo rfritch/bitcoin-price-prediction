{
 "cells": [
  {
   "cell_type": "code",
   "execution_count": null,
   "metadata": {},
   "outputs": [],
   "source": [
    "from binance.client import Client\n",
    "import pandas as pd\n",
    "import numpy as np\n",
    "from hmmlearn.hmm import GaussianHMM\n",
    "import matplotlib.pyplot as plt\n",
    "\n",
    "# Binance API credentials\n",
    "API_KEY = 'your_api_key'\n",
    "API_SECRET = 'your_api_secret'\n",
    "\n",
    "# Initialize Binance client\n",
    "client = Client(API_KEY, API_SECRET)\n",
    "\n",
    "# Fetch historical data\n",
    "def fetch_historical_data(symbol, interval, start_str):\n",
    "    klines = client.get_historical_klines(symbol, interval, start_str)\n",
    "    data = pd.DataFrame(klines, columns=['timestamp', 'open', 'high', 'low', 'close', 'volume', 'close_time', 'quote_asset_volume', 'number_of_trades', 'taker_buy_base_asset_volume', 'taker_buy_quote_asset_volume', 'ignore'])\n",
    "    data['timestamp'] = pd.to_datetime(data['timestamp'], unit='ms')\n",
    "    data.set_index('timestamp', inplace=True)\n",
    "    data = data[['open', 'high', 'low', 'close', 'volume']].astype(float)\n",
    "    return data\n",
    "\n",
    "symbol = 'BTCUSDT'\n",
    "interval = Client.KLINE_INTERVAL_1HOUR\n",
    "start_str = '1 Jan 2021'\n",
    "data = fetch_historical_data(symbol, interval, start_str)"
   ]
  },
  {
   "cell_type": "code",
   "execution_count": null,
   "metadata": {},
   "outputs": [],
   "source": [
    "# Prepare data for HMM\n",
    "data['returns'] = data['close'].pct_change()\n",
    "data['log_returns'] = np.log1p(data['returns'])\n",
    "data.dropna(inplace=True)\n",
    "\n",
    "# Train HMM\n",
    "hmm = GaussianHMM(n_components=3, covariance_type=\"full\", n_iter=1000)\n",
    "hmm.fit(data[['log_returns']])\n",
    "\n",
    "# Predict hidden states\n",
    "hidden_states = hmm.predict(data[['log_returns']])\n",
    "data['hidden_state'] = hidden_states"
   ]
  },
  {
   "cell_type": "code",
   "execution_count": null,
   "metadata": {},
   "outputs": [],
   "source": [
    "# Generate trading signals based on hidden states\n",
    "data['signal'] = 0\n",
    "data.loc[data['hidden_state'] == 0, 'signal'] = 1  # Buy signal\n",
    "data.loc[data['hidden_state'] == 2, 'signal'] = -1  # Sell signal"
   ]
  },
  {
   "cell_type": "code",
   "execution_count": null,
   "metadata": {},
   "outputs": [],
   "source": [
    "# Backtest the strategy\n",
    "initial_balance = 10000\n",
    "balance = initial_balance\n",
    "position = 0\n",
    "data['portfolio_value'] = balance\n",
    "\n",
    "for i in range(1, len(data)):\n",
    "    if data['signal'].iloc[i] == 1 and position == 0:\n",
    "        position = balance / data['close'].iloc[i]\n",
    "        balance = 0\n",
    "    elif data['signal'].iloc[i] == -1 and position > 0:\n",
    "        balance = position * data['close'].iloc[i]\n",
    "        position = 0\n",
    "    data['portfolio_value'].iloc[i] = balance + position * data['close'].iloc[i]\n",
    "\n",
    "# Plot the results\n",
    "plt.figure(figsize=(12, 6))\n",
    "plt.plot(data['close'], label='BTC-USD Price')\n",
    "plt.plot(data['portfolio_value'], label='Portfolio Value')\n",
    "plt.legend()\n",
    "plt.show()\n",
    "\n",
    "# Print final portfolio value\n",
    "print(f\"Final portfolio value: ${data['portfolio_value'].iloc[-1]:.2f}\")"
   ]
  }
 ],
 "metadata": {
  "language_info": {
   "name": "python"
  }
 },
 "nbformat": 4,
 "nbformat_minor": 2
}
